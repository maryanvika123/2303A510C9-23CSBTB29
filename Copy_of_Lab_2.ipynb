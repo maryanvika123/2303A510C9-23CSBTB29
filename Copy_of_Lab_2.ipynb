{
  "nbformat": 4,
  "nbformat_minor": 0,
  "metadata": {
    "colab": {
      "provenance": []
    },
    "kernelspec": {
      "name": "python3",
      "display_name": "Python 3"
    },
    "language_info": {
      "name": "python"
    }
  },
  "cells": [
    {
      "cell_type": "code",
      "execution_count": null,
      "metadata": {
        "colab": {
          "base_uri": "https://localhost:8080/"
        },
        "id": "Zb4CfjpmyFlV",
        "outputId": "c8a71900-48e9-4407-ea22-a737dd08a326"
      },
      "outputs": [
        {
          "output_type": "stream",
          "name": "stdout",
          "text": [
            "Original DataFrame:\n",
            "    Order ID   Product  Quantity  Price\n",
            "0       101    Laptop         2  55000\n",
            "1       102     Mouse         5    800\n",
            "2       103  Keyboard         3   1500\n",
            "3       104   Monitor         1  12000\n",
            "4       105   Printer         4   7000\n",
            "\n",
            "DataFrame with Total Sale:\n",
            "    Order ID   Product  Quantity  Price  Total Sale\n",
            "0       101    Laptop         2  55000      110000\n",
            "1       102     Mouse         5    800        4000\n",
            "2       103  Keyboard         3   1500        4500\n",
            "3       104   Monitor         1  12000       12000\n",
            "4       105   Printer         4   7000       28000\n",
            "\n",
            "Orders with Total Sale > 1000:\n",
            "    Order ID   Product  Quantity  Price  Total Sale\n",
            "0       101    Laptop         2  55000      110000\n",
            "1       102     Mouse         5    800        4000\n",
            "2       103  Keyboard         3   1500        4500\n",
            "3       104   Monitor         1  12000       12000\n",
            "4       105   Printer         4   7000       28000\n",
            "\n",
            "Most Sold Product: Mouse\n",
            "\n",
            "DataFrame with Discount:\n",
            "    Order ID   Product  Quantity  Price  Total Sale  Discount\n",
            "0       101    Laptop         2  55000      110000   11000.0\n",
            "1       102     Mouse         5    800        4000     200.0\n",
            "2       103  Keyboard         3   1500        4500     225.0\n",
            "3       104   Monitor         1  12000       12000     600.0\n",
            "4       105   Printer         4   7000       28000    2800.0\n",
            "\n",
            "Sales summary exported to 'sales_summary.xlsx'\n"
          ]
        }
      ],
      "source": [
        "# Step 1: Import required libraries\n",
        "import pandas as pd\n",
        "\n",
        "# Step 2: Create pandas DataFrame\n",
        "data = {\n",
        "    'Order ID': [101, 102, 103, 104, 105],\n",
        "    'Product': ['Laptop', 'Mouse', 'Keyboard', 'Monitor', 'Printer'],\n",
        "    'Quantity': [2, 5, 3, 1, 4],\n",
        "    'Price': [55000, 800, 1500, 12000, 7000]\n",
        "}\n",
        "\n",
        "df = pd.DataFrame(data)\n",
        "print(\"Original DataFrame:\\n\", df)\n",
        "\n",
        "# Step 3: Calculate Total Sale per order\n",
        "df['Total Sale'] = df['Quantity'] * df['Price']\n",
        "print(\"\\nDataFrame with Total Sale:\\n\", df)\n",
        "\n",
        "# Step 4: Filter orders with Total Sale > 1000\n",
        "high_value_orders = df[df['Total Sale'] > 1000]\n",
        "print(\"\\nOrders with Total Sale > 1000:\\n\", high_value_orders)\n",
        "\n",
        "# Step 5: Find most sold product using groupby\n",
        "most_sold = df.groupby('Product')['Quantity'].sum().idxmax()\n",
        "print(\"\\nMost Sold Product:\", most_sold)\n",
        "\n",
        "# Step 6: Add Discount column based on sale amount\n",
        "df['Discount'] = df['Total Sale'].apply(lambda x: 0.1*x if x > 20000 else 0.05*x)\n",
        "print(\"\\nDataFrame with Discount:\\n\", df)\n",
        "\n",
        "# Step 7: Export summary to Excel\n",
        "df.to_excel(\"sales_summary.xlsx\", index=False)\n",
        "print(\"\\nSales summary exported to 'sales_summary.xlsx'\")"
      ]
    },
    {
      "cell_type": "code",
      "source": [
        "import pandas as pd\n",
        "\n",
        "data = {\n",
        "    \"OrderID\": [101, 102, 103, 104, 105],\n",
        "    \"Product\": [\"Laptop\", \"Phone\", \"Tablet\", \"Laptop\", \"Phone\"],\n",
        "    \"Quantity\": [2, 5, 3, 1, 10],\n",
        "    \"Price\": [50000, 15000, 20000, 50000, 15000]\n",
        "}\n",
        "\n",
        "df = pd.DataFrame(data)\n",
        "df[\"TotalSale\"] = df[\"Quantity\"] * df[\"Price\"]\n",
        "high_sales = df[df[\"TotalSale\"] > 1000]\n",
        "most_sold = df.groupby(\"Product\")[\"Quantity\"].sum().idxmax()\n",
        "df[\"Discount\"] = df[\"TotalSale\"].apply(lambda x: x * 0.1 if x > 40000 else x * 0.05)\n",
        "\n",
        "summary = df.groupby(\"Product\").agg({\"Quantity\": \"sum\", \"TotalSale\": \"sum\", \"Discount\": \"sum\"})\n",
        "summary.to_excel(\"sales_summary.xlsx\")\n",
        "\n",
        "print(\"Full Data:\\n\", df)\n",
        "print(\"\\nOrders with Total Sale > 1000:\\n\", high_sales)\n",
        "print(\"\\nMost Sold Product:\", most_sold)\n",
        "print(\"\\nSales Summary:\\n\", summary)"
      ],
      "metadata": {
        "colab": {
          "base_uri": "https://localhost:8080/"
        },
        "id": "nKkzOsNOARJB",
        "outputId": "c89cf610-af27-45a8-bdc9-d1a87c6f9859"
      },
      "execution_count": null,
      "outputs": [
        {
          "output_type": "stream",
          "name": "stdout",
          "text": [
            "Full Data:\n",
            "    OrderID Product  Quantity  Price  TotalSale  Discount\n",
            "0      101  Laptop         2  50000     100000   10000.0\n",
            "1      102   Phone         5  15000      75000    7500.0\n",
            "2      103  Tablet         3  20000      60000    6000.0\n",
            "3      104  Laptop         1  50000      50000    5000.0\n",
            "4      105   Phone        10  15000     150000   15000.0\n",
            "\n",
            "Orders with Total Sale > 1000:\n",
            "    OrderID Product  Quantity  Price  TotalSale\n",
            "0      101  Laptop         2  50000     100000\n",
            "1      102   Phone         5  15000      75000\n",
            "2      103  Tablet         3  20000      60000\n",
            "3      104  Laptop         1  50000      50000\n",
            "4      105   Phone        10  15000     150000\n",
            "\n",
            "Most Sold Product: Phone\n",
            "\n",
            "Sales Summary:\n",
            "          Quantity  TotalSale  Discount\n",
            "Product                               \n",
            "Laptop          3     150000   15000.0\n",
            "Phone          15     225000   22500.0\n",
            "Tablet          3      60000    6000.0\n"
          ]
        }
      ]
    }
  ]
}