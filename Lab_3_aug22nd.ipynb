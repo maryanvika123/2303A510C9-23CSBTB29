{
  "nbformat": 4,
  "nbformat_minor": 0,
  "metadata": {
    "colab": {
      "provenance": [],
      "authorship_tag": "ABX9TyNooFC4sbhl15yrQ3eQCdxR",
      "include_colab_link": true
    },
    "kernelspec": {
      "name": "python3",
      "display_name": "Python 3"
    },
    "language_info": {
      "name": "python"
    }
  },
  "cells": [
    {
      "cell_type": "markdown",
      "metadata": {
        "id": "view-in-github",
        "colab_type": "text"
      },
      "source": [
        "<a href=\"https://colab.research.google.com/github/maryanvika123/2303A510C9-23CSBTB29/blob/main/Lab_3_aug22nd.ipynb\" target=\"_parent\"><img src=\"https://colab.research.google.com/assets/colab-badge.svg\" alt=\"Open In Colab\"/></a>"
      ]
    },
    {
      "cell_type": "code",
      "execution_count": 1,
      "metadata": {
        "colab": {
          "base_uri": "https://localhost:8080/"
        },
        "id": "LQ79_bPEGkN7",
        "outputId": "f845adb4-f4d8-4502-eac0-f7dbb35eea91"
      },
      "outputs": [
        {
          "output_type": "stream",
          "name": "stdout",
          "text": [
            "Test Scores (4x4 Matrix):\n",
            " [[ 78  91  68  54]\n",
            " [ 82  47 100  60]\n",
            " [ 78  97  58  62]\n",
            " [ 50  50  63  92]]\n",
            "\n",
            "Row-wise Means: [72.75 72.25 73.75 63.75]\n",
            "Column-wise Means: [72.   71.25 72.25 67.  ]\n",
            "\n",
            "Standard Deviation: 17.258602927236026\n",
            "Variance: 297.859375\n",
            "\n",
            "Global Max: 100 at index (np.int64(1), np.int64(2))\n",
            "Global Min: 47 at index (np.int64(1), np.int64(1))\n"
          ]
        }
      ],
      "source": [
        "import numpy as np\n",
        "\n",
        "\n",
        "np.random.seed(42)  # for reproducibility\n",
        "scores = np.random.randint(40, 101, size=(4, 4))\n",
        "print(\"Test Scores (4x4 Matrix):\\n\", scores)\n",
        "\n",
        "\n",
        "row_means = np.mean(scores, axis=1)\n",
        "col_means = np.mean(scores, axis=0)\n",
        "\n",
        "\n",
        "std_dev = np.std(scores)\n",
        "variance = np.var(scores)\n",
        "\n",
        "\n",
        "global_max = np.max(scores)\n",
        "global_min = np.min(scores)\n",
        "max_index = np.unravel_index(np.argmax(scores), scores.shape)\n",
        "min_index = np.unravel_index(np.argmin(scores), scores.shape)\n",
        "\n",
        "print(\"\\nRow-wise Means:\", row_means)\n",
        "print(\"Column-wise Means:\", col_means)\n",
        "print(\"\\nStandard Deviation:\", std_dev)\n",
        "print(\"Variance:\", variance)\n",
        "print(\"\\nGlobal Max:\", global_max, \"at index\", max_index)\n",
        "print(\"Global Min:\", global_min, \"at index\", min_index)\n"
      ]
    },
    {
      "cell_type": "code",
      "source": [
        "import numpy as np\n",
        "import matplotlib.pyplot as plt\n",
        "np.random.seed(42)\n",
        "image = np.random.randint(0, 256, size=(3, 3, 3), dtype=np.uint8)\n",
        "print(\"Original Image Array (3x3x3):\\n\", image)\n",
        "red_channel = image[:, :, 0]\n",
        "green_channel = image[:, :, 1]\n",
        "blue_channel = image[:, :, 2]\n",
        "print(\"\\nRed Channel:\\n\", red_channel)\n",
        "print(\"\\nGreen Channel:\\n\", green_channel)\n",
        "print(\"\\nBlue Channel:\\n\", blue_channel)\n",
        "avg_red = np.mean(red_channel)\n",
        "avg_green = np.mean(green_channel)\n",
        "avg_blue = np.mean(blue_channel)\n",
        "print(\"\\nAverage Intensities - Red:\", avg_red,\n",
        "      \"Green:\", avg_green,\n",
        "      \"Blue:\", avg_blue)\n",
        "brightened_image = np.clip(image + 50, 0, 255)\n",
        "print(\"\\nBrightened Image Array:\\n\", brightened_image)\n",
        "fig, axs = plt.subplots(1, 4, figsize=(12, 4))\n",
        "axs[0].imshow(image)\n",
        "axs[0].set_title(\"Original Image\")\n",
        "axs[0].axis(\"off\")\n",
        "axs[1].imshow(red_channel, cmap=\"Reds\")\n",
        "axs[1].set_title(\"Red Channel\")\n",
        "axs[1].axis(\"off\")\n",
        "axs[2].imshow(green_channel, cmap=\"Greens\")\n",
        "axs[2].set_title(\"Green Channel\")\n",
        "axs[2].axis(\"off\")\n",
        "axs[3].imshow(blue_channel, cmap=\"Blues\")\n",
        "axs[3].set_title(\"Blue Channel\")\n",
        "axs[3].axis(\"off\")\n",
        "plt.show()\n",
        "plt.imshow(brightened_image)\n",
        "plt.title(\"Brightened Image (+50)\")\n",
        "plt.axis(\"off\")\n",
        "plt.show()\n"
      ],
      "metadata": {
        "colab": {
          "base_uri": "https://localhost:8080/",
          "height": 1000
        },
        "id": "AqlZeGhBK5MI",
        "outputId": "36c32137-0387-4521-af1b-7f9691841917"
      },
      "execution_count": 2,
      "outputs": [
        {
          "output_type": "stream",
          "name": "stdout",
          "text": [
            "Original Image Array (3x3x3):\n",
            " [[[102 220 225]\n",
            "  [ 95 179  61]\n",
            "  [234 203  92]]\n",
            "\n",
            " [[  3  98 243]\n",
            "  [ 14 149 245]\n",
            "  [ 46 106 244]]\n",
            "\n",
            " [[ 99 187  71]\n",
            "  [212 153 199]\n",
            "  [188 174  65]]]\n",
            "\n",
            "Red Channel:\n",
            " [[102  95 234]\n",
            " [  3  14  46]\n",
            " [ 99 212 188]]\n",
            "\n",
            "Green Channel:\n",
            " [[220 179 203]\n",
            " [ 98 149 106]\n",
            " [187 153 174]]\n",
            "\n",
            "Blue Channel:\n",
            " [[225  61  92]\n",
            " [243 245 244]\n",
            " [ 71 199  65]]\n",
            "\n",
            "Average Intensities - Red: 110.33333333333333 Green: 163.22222222222223 Blue: 160.55555555555554\n",
            "\n",
            "Brightened Image Array:\n",
            " [[[152  14  19]\n",
            "  [145 229 111]\n",
            "  [ 28 253 142]]\n",
            "\n",
            " [[ 53 148  37]\n",
            "  [ 64 199  39]\n",
            "  [ 96 156  38]]\n",
            "\n",
            " [[149 237 121]\n",
            "  [  6 203 249]\n",
            "  [238 224 115]]]\n"
          ]
        },
        {
          "output_type": "display_data",
          "data": {
            "text/plain": [
              "<Figure size 1200x400 with 4 Axes>"
            ],
            "image/png": "[encoded data removed]"
          },
          "metadata": {}
        },
        {
          "output_type": "display_data",
          "data": {
            "text/plain": [
              "<Figure size 640x480 with 1 Axes>"
            ],
            "image/png": "[encoded data removed]"
          },
          "metadata": {}
        }
      ]
    }
  ]
}