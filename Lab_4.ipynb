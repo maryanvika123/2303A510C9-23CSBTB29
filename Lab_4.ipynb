{
  "nbformat": 4,
  "nbformat_minor": 0,
  "metadata": {
    "colab": {
      "provenance": [],
      "authorship_tag": "ABX9TyOvDP6XzaRE8myGpr5EDmsA",
      "include_colab_link": true
    },
    "kernelspec": {
      "name": "python3",
      "display_name": "Python 3"
    },
    "language_info": {
      "name": "python"
    }
  },
  "cells": [
    {
      "cell_type": "markdown",
      "metadata": {
        "id": "view-in-github",
        "colab_type": "text"
      },
      "source": [
        "<a href=\"https://colab.research.google.com/github/maryanvika123/2303A510C9-23CSBTB29/blob/main/Lab_4.ipynb\" target=\"_parent\"><img src=\"https://colab.research.google.com/assets/colab-badge.svg\" alt=\"Open In Colab\"/></a>"
      ]
    },
    {
      "cell_type": "code",
      "execution_count": 2,
      "metadata": {
        "colab": {
          "base_uri": "https://localhost:8080/"
        },
        "id": "rv_V-obe0NNb",
        "outputId": "9638dd11-40ce-4480-dc8f-92654f84479c"
      },
      "outputs": [
        {
          "output_type": "stream",
          "name": "stdout",
          "text": [
            "Sample course_feedback.csv created\n"
          ]
        }
      ],
      "source": [
        "import pandas as pd\n",
        "\n",
        "data = {\n",
        "    \"User_ID\": [\"U1\", \"U2\", \"U3\", \"U4\"],\n",
        "    \"Course_Name\": [\"Python for Data Science\", \"Python for Data Science\", \"ML Basics\", \"Python for Data Science\"],\n",
        "    \"Rating\": [5, 4, 3, None],\n",
        "    \"Feedback\": [\"Great course!\", \"Very helpful\", \"Too basic\", \"Excellent content\"],\n",
        "    \"Date\": [\"2025-08-01\", \"2025-08-02\", \"2025-08-03\", \"2025-08-04\"]\n",
        "}\n",
        "\n",
        "df = pd.DataFrame(data)\n",
        "df.to_csv(\"course_feedback.csv\", index=False)\n",
        "print(\"Sample course_feedback.csv created\")\n"
      ]
    },
    {
      "cell_type": "code",
      "source": [
        "import pandas as pd\n",
        "\n",
        "data = {\n",
        "    \"Location\": [\"Hyderabad\", \"Delhi\", \"Mumbai\", \"Chennai\", \"Kolkata\"],\n",
        "    \"PM2.5\": [120, 180, 95, 160, None],\n",
        "    \"PM10\": [200, 250, 180, None, 220],\n",
        "    \"NO2\": [70, 90, 60, 85, 95],\n",
        "    \"SO2\": [20, 35, 18, 22, 28],\n",
        "    \"Date\": [\"2025-08-01\", \"2025-08-02\", \"2025-08-03\", \"2025-08-04\", \"2025-08-05\"]\n",
        "}\n",
        "\n",
        "df = pd.DataFrame(data)\n",
        "df.to_csv(\"air_quality.csv\", index=False)\n",
        "print(\"✅ air_quality.csv created successfully!\")\n"
      ],
      "metadata": {
        "colab": {
          "base_uri": "https://localhost:8080/"
        },
        "id": "FxPdjqrG0iDu",
        "outputId": "2f6bdeea-1cd9-4758-c650-71a3e05171d3"
      },
      "execution_count": 5,
      "outputs": [
        {
          "output_type": "stream",
          "name": "stdout",
          "text": [
            "✅ air_quality.csv created successfully!\n"
          ]
        }
      ]
    }
  ]
}